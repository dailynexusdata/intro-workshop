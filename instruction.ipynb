{
 "cells": [
  {
   "cell_type": "markdown",
   "metadata": {},
   "source": [
    "### Set Up: \n",
    "+ https://code.visualstudio.com/Download, https://www.python.org/downloads/ \n",
    "+ make sure python exists or is installed on your computer \n",
    "+ install Jupyter Notebook and Python in the Extension tab\n",
    "+ create notebook by naming the file name.ipynb\n",
    "+ make sure an appropriate Python interpreter is chosen (see upper right tab)\n",
    "\n",
    "Referencable Docs: \n",
    "https://code.visualstudio.com/docs/datascience/jupyter-notebooks "
   ]
  },
  {
   "cell_type": "markdown",
   "metadata": {},
   "source": [
    "Keyboard Shortcuts: \n",
    "+ Windows: https://code.visualstudio.com/shortcuts/keyboard-shortcuts-windows.pdf\n",
    "+ MacOS: https://code.visualstudio.com/shortcuts/keyboard-shortcuts-macos.pdf\n",
    "+ Linux: https://code.visualstudio.com/shortcuts/keyboard-shortcuts-linux.pdf "
   ]
  },
  {
   "cell_type": "markdown",
   "metadata": {},
   "source": [
    "### Python Interpreter & Environment: \n",
    "You can create different python environments for different projects. All of these environments can contain different types of python packages or dependencies. We will focus on the basics for now, but here's a link to resources for getting started. \n",
    "https://code.visualstudio.com/docs/python/environments "
   ]
  },
  {
   "cell_type": "code",
   "execution_count": null,
   "metadata": {},
   "outputs": [],
   "source": [
    "# macOS/Linux\n",
    "# You may need to run sudo apt-get install python3-venv first\n",
    "!python3 -m venv .venv\n",
    "\n",
    "# Windows\n",
    "# You can also use py -3 -m venv .venv\n",
    "!python -m venv .venv"
   ]
  },
  {
   "cell_type": "markdown",
   "metadata": {},
   "source": [
    "Jupyter notebooks 'like' conda environments. So, for trouble shooting purposes, it might be worth creating a conda environment. Alternatively, you can use a pre-exsiting conda environment if you've created one before in anaconda (VSCode is good at recognizing environments so you don't have to worry about doing anything too fancy). For the sake of demonstration, here is an example of how to create a conda environment:"
   ]
  },
  {
   "cell_type": "code",
   "execution_count": null,
   "metadata": {},
   "outputs": [],
   "source": [
    "! conda create -n new-env python=3.9 # scipy=0.15.0 astroid babel "
   ]
  },
  {
   "cell_type": "markdown",
   "metadata": {},
   "source": [
    "# Header\n",
    "## smaller header \n",
    "### smallest header\n",
    "body, *italic*, **bold**\n",
    "* bullet \n",
    "+ another bullet "
   ]
  },
  {
   "cell_type": "markdown",
   "metadata": {},
   "source": [
    "bash is a language we can use inside the cells of our notebooks with an exclamation mark or in the terminal without one. \n",
    "We will use bash primarily to install packages. We can also use bash for python tools that use Command Line Interface. \n",
    "It is good to use bash in notebooks for reproducibility. "
   ]
  },
  {
   "cell_type": "markdown",
   "metadata": {},
   "source": [
    "Git is the best example of Command Line Interface (CLI). CLI is commonly used with API's, something you might want to familiarize for future data collection. Here are some useful CLI's if you are interested: https://docs.python-guide.org/scenarios/cli/ "
   ]
  },
  {
   "cell_type": "markdown",
   "metadata": {},
   "source": [
    "### Basic Terminal Commands:"
   ]
  },
  {
   "cell_type": "code",
   "execution_count": 5,
   "metadata": {},
   "outputs": [],
   "source": [
    "# ! pwd  # print working directory\n",
    "# ! ls   # print list of things in directory \n",
    "# ! cd   # change or set directory"
   ]
  },
  {
   "cell_type": "markdown",
   "metadata": {},
   "source": [
    "### Package Installation:"
   ]
  },
  {
   "cell_type": "code",
   "execution_count": 3,
   "metadata": {},
   "outputs": [
    {
     "name": "stdout",
     "output_type": "stream",
     "text": [
      "Python 3.7.7\n"
     ]
    }
   ],
   "source": [
    "! python --version"
   ]
  },
  {
   "cell_type": "code",
   "execution_count": 3,
   "metadata": {},
   "outputs": [],
   "source": [
    "! pip install package-name"
   ]
  },
  {
   "cell_type": "code",
   "execution_count": 3,
   "metadata": {},
   "outputs": [],
   "source": [
    "! pip install pandas numpy matplotlib plotnine statsmodels"
   ]
  },
  {
   "cell_type": "markdown",
   "metadata": {},
   "source": [
    " A requirements text 'contains' multiple python packages and dependencies necessary for a particular type of project. requirements.txt is typically a text file included in a package or repository. pip installs on requirements texts can be more convenient than pip installing individual packages in some cases. You can install and create requirements texts using the code below"
   ]
  },
  {
   "cell_type": "code",
   "execution_count": null,
   "metadata": {},
   "outputs": [],
   "source": [
    "! pip install -r requirements.txt\n",
    "# first, create a blank requirements.txt file in your directory, then run\n",
    "! pip freeze > requirements.txt"
   ]
  },
  {
   "cell_type": "markdown",
   "metadata": {},
   "source": [
    "Good for copying a repository. Sometimes python packages will have you do this instead of a pip install. We won't go into using git today, but you can use git in the terminal to remotely copy, make changes, and send changes to a github repository."
   ]
  },
  {
   "cell_type": "code",
   "execution_count": null,
   "metadata": {},
   "outputs": [],
   "source": [
    "! git clone [repository name]"
   ]
  },
  {
   "cell_type": "markdown",
   "metadata": {},
   "source": [
    "### Using Python"
   ]
  },
  {
   "cell_type": "code",
   "execution_count": 1,
   "metadata": {},
   "outputs": [
    {
     "name": "stdout",
     "output_type": "stream",
     "text": [
      "hello world\n"
     ]
    }
   ],
   "source": [
    "print(\"hello world\")"
   ]
  },
  {
   "cell_type": "markdown",
   "metadata": {},
   "source": [
    "package imports can be contained in a separate cell, just rememeber to run it when working on projects"
   ]
  },
  {
   "cell_type": "code",
   "execution_count": 3,
   "metadata": {},
   "outputs": [],
   "source": [
    "import pandas as pd \n",
    "import numpy as np\n",
    "import matplotlib.pyplot as plt \n",
    "import plotnine as p9\n",
    "# from statsmodels import datasets"
   ]
  },
  {
   "cell_type": "code",
   "execution_count": 4,
   "metadata": {},
   "outputs": [
    {
     "data": {
      "text/html": [
       "<div>\n",
       "<style scoped>\n",
       "    .dataframe tbody tr th:only-of-type {\n",
       "        vertical-align: middle;\n",
       "    }\n",
       "\n",
       "    .dataframe tbody tr th {\n",
       "        vertical-align: top;\n",
       "    }\n",
       "\n",
       "    .dataframe thead th {\n",
       "        text-align: right;\n",
       "    }\n",
       "</style>\n",
       "<table border=\"1\" class=\"dataframe\">\n",
       "  <thead>\n",
       "    <tr style=\"text-align: right;\">\n",
       "      <th></th>\n",
       "      <th>Unnamed: 0</th>\n",
       "      <th>id</th>\n",
       "      <th>conversation_id</th>\n",
       "      <th>created_at</th>\n",
       "      <th>date</th>\n",
       "      <th>time</th>\n",
       "      <th>timezone</th>\n",
       "      <th>user_id</th>\n",
       "      <th>username</th>\n",
       "      <th>name</th>\n",
       "      <th>...</th>\n",
       "      <th>urls</th>\n",
       "      <th>photos</th>\n",
       "      <th>replies_count</th>\n",
       "      <th>retweets_count</th>\n",
       "      <th>likes_count</th>\n",
       "      <th>hashtags</th>\n",
       "      <th>cashtags</th>\n",
       "      <th>link</th>\n",
       "      <th>polarity</th>\n",
       "      <th>subjectivity</th>\n",
       "    </tr>\n",
       "  </thead>\n",
       "  <tbody>\n",
       "    <tr>\n",
       "      <th>0</th>\n",
       "      <td>0</td>\n",
       "      <td>1550999167748694017</td>\n",
       "      <td>1550999167748694017</td>\n",
       "      <td>2022-07-23 17:19:52 PDT</td>\n",
       "      <td>2022-07-23</td>\n",
       "      <td>17:19:52</td>\n",
       "      <td>-700</td>\n",
       "      <td>2371339658</td>\n",
       "      <td>repjimmygomez</td>\n",
       "      <td>Rep. Jimmy Gomez</td>\n",
       "      <td>...</td>\n",
       "      <td>[]</td>\n",
       "      <td>['https://pbs.twimg.com/media/FYZBg2dWIAIBjyN....</td>\n",
       "      <td>0</td>\n",
       "      <td>5</td>\n",
       "      <td>14</td>\n",
       "      <td>['ca34', 'koreatown']</td>\n",
       "      <td>[]</td>\n",
       "      <td>https://twitter.com/RepJimmyGomez/status/15509...</td>\n",
       "      <td>0.442519</td>\n",
       "      <td>0.484091</td>\n",
       "    </tr>\n",
       "    <tr>\n",
       "      <th>1</th>\n",
       "      <td>1</td>\n",
       "      <td>1542319507724812288</td>\n",
       "      <td>1542319507724812288</td>\n",
       "      <td>2022-06-29 18:30:00 PDT</td>\n",
       "      <td>2022-06-29</td>\n",
       "      <td>18:30:00</td>\n",
       "      <td>-700</td>\n",
       "      <td>3638215945</td>\n",
       "      <td>mirrornow</td>\n",
       "      <td>Mirror Now</td>\n",
       "      <td>...</td>\n",
       "      <td>['https://bit.ly/3NvXtJI']</td>\n",
       "      <td>[]</td>\n",
       "      <td>0</td>\n",
       "      <td>1</td>\n",
       "      <td>1</td>\n",
       "      <td>[]</td>\n",
       "      <td>[]</td>\n",
       "      <td>https://twitter.com/MirrorNow/status/154231950...</td>\n",
       "      <td>-0.150000</td>\n",
       "      <td>0.400000</td>\n",
       "    </tr>\n",
       "    <tr>\n",
       "      <th>2</th>\n",
       "      <td>2</td>\n",
       "      <td>1532397095683928065</td>\n",
       "      <td>1532397095683928065</td>\n",
       "      <td>2022-06-02 09:21:52 PDT</td>\n",
       "      <td>2022-06-02</td>\n",
       "      <td>9:21:52</td>\n",
       "      <td>-700</td>\n",
       "      <td>587852239</td>\n",
       "      <td>tracylehrnews</td>\n",
       "      <td>Tracy Lehr</td>\n",
       "      <td>...</td>\n",
       "      <td>['https://keyt.com/news/education/2022/06/01/s...</td>\n",
       "      <td>[]</td>\n",
       "      <td>0</td>\n",
       "      <td>0</td>\n",
       "      <td>2</td>\n",
       "      <td>['munger']</td>\n",
       "      <td>[]</td>\n",
       "      <td>https://twitter.com/TracyLehrNews/status/15323...</td>\n",
       "      <td>0.000000</td>\n",
       "      <td>0.000000</td>\n",
       "    </tr>\n",
       "    <tr>\n",
       "      <th>3</th>\n",
       "      <td>3</td>\n",
       "      <td>1532183679719444480</td>\n",
       "      <td>1532183679719444480</td>\n",
       "      <td>2022-06-01 19:13:50 PDT</td>\n",
       "      <td>2022-06-01</td>\n",
       "      <td>19:13:50</td>\n",
       "      <td>-700</td>\n",
       "      <td>587852239</td>\n",
       "      <td>tracylehrnews</td>\n",
       "      <td>Tracy Lehr</td>\n",
       "      <td>...</td>\n",
       "      <td>['https://keyt.com/news/education/2022/06/01/s...</td>\n",
       "      <td>[]</td>\n",
       "      <td>0</td>\n",
       "      <td>1</td>\n",
       "      <td>0</td>\n",
       "      <td>['munger']</td>\n",
       "      <td>[]</td>\n",
       "      <td>https://twitter.com/TracyLehrNews/status/15321...</td>\n",
       "      <td>0.000000</td>\n",
       "      <td>0.000000</td>\n",
       "    </tr>\n",
       "    <tr>\n",
       "      <th>4</th>\n",
       "      <td>4</td>\n",
       "      <td>1532111273801920513</td>\n",
       "      <td>1532111273801920513</td>\n",
       "      <td>2022-06-01 14:26:07 PDT</td>\n",
       "      <td>2022-06-01</td>\n",
       "      <td>14:26:07</td>\n",
       "      <td>-700</td>\n",
       "      <td>1259979349</td>\n",
       "      <td>johnpalminteri</td>\n",
       "      <td>John Palminteri</td>\n",
       "      <td>...</td>\n",
       "      <td>[]</td>\n",
       "      <td>['https://pbs.twimg.com/media/FUMmxv9UYAAiFDi....</td>\n",
       "      <td>3</td>\n",
       "      <td>3</td>\n",
       "      <td>3</td>\n",
       "      <td>[]</td>\n",
       "      <td>[]</td>\n",
       "      <td>https://twitter.com/JohnPalminteri/status/1532...</td>\n",
       "      <td>0.000000</td>\n",
       "      <td>0.000000</td>\n",
       "    </tr>\n",
       "  </tbody>\n",
       "</table>\n",
       "<p>5 rows × 24 columns</p>\n",
       "</div>"
      ],
      "text/plain": [
       "   Unnamed: 0                   id      conversation_id  \\\n",
       "0           0  1550999167748694017  1550999167748694017   \n",
       "1           1  1542319507724812288  1542319507724812288   \n",
       "2           2  1532397095683928065  1532397095683928065   \n",
       "3           3  1532183679719444480  1532183679719444480   \n",
       "4           4  1532111273801920513  1532111273801920513   \n",
       "\n",
       "                created_at        date      time  timezone     user_id  \\\n",
       "0  2022-07-23 17:19:52 PDT  2022-07-23  17:19:52      -700  2371339658   \n",
       "1  2022-06-29 18:30:00 PDT  2022-06-29  18:30:00      -700  3638215945   \n",
       "2  2022-06-02 09:21:52 PDT  2022-06-02   9:21:52      -700   587852239   \n",
       "3  2022-06-01 19:13:50 PDT  2022-06-01  19:13:50      -700   587852239   \n",
       "4  2022-06-01 14:26:07 PDT  2022-06-01  14:26:07      -700  1259979349   \n",
       "\n",
       "         username              name  ...  \\\n",
       "0   repjimmygomez  Rep. Jimmy Gomez  ...   \n",
       "1       mirrornow        Mirror Now  ...   \n",
       "2   tracylehrnews        Tracy Lehr  ...   \n",
       "3   tracylehrnews        Tracy Lehr  ...   \n",
       "4  johnpalminteri   John Palminteri  ...   \n",
       "\n",
       "                                                urls  \\\n",
       "0                                                 []   \n",
       "1                         ['https://bit.ly/3NvXtJI']   \n",
       "2  ['https://keyt.com/news/education/2022/06/01/s...   \n",
       "3  ['https://keyt.com/news/education/2022/06/01/s...   \n",
       "4                                                 []   \n",
       "\n",
       "                                              photos replies_count  \\\n",
       "0  ['https://pbs.twimg.com/media/FYZBg2dWIAIBjyN....             0   \n",
       "1                                                 []             0   \n",
       "2                                                 []             0   \n",
       "3                                                 []             0   \n",
       "4  ['https://pbs.twimg.com/media/FUMmxv9UYAAiFDi....             3   \n",
       "\n",
       "  retweets_count likes_count               hashtags  cashtags  \\\n",
       "0              5          14  ['ca34', 'koreatown']        []   \n",
       "1              1           1                     []        []   \n",
       "2              0           2             ['munger']        []   \n",
       "3              1           0             ['munger']        []   \n",
       "4              3           3                     []        []   \n",
       "\n",
       "                                                link  polarity subjectivity  \n",
       "0  https://twitter.com/RepJimmyGomez/status/15509...  0.442519     0.484091  \n",
       "1  https://twitter.com/MirrorNow/status/154231950... -0.150000     0.400000  \n",
       "2  https://twitter.com/TracyLehrNews/status/15323...  0.000000     0.000000  \n",
       "3  https://twitter.com/TracyLehrNews/status/15321...  0.000000     0.000000  \n",
       "4  https://twitter.com/JohnPalminteri/status/1532...  0.000000     0.000000  \n",
       "\n",
       "[5 rows x 24 columns]"
      ]
     },
     "execution_count": 4,
     "metadata": {},
     "output_type": "execute_result"
    }
   ],
   "source": [
    "df = pd.read_csv(\"dataset.csv\")\n",
    "df.head()"
   ]
  },
  {
   "cell_type": "code",
   "execution_count": 5,
   "metadata": {},
   "outputs": [
    {
     "data": {
      "text/html": [
       "<div>\n",
       "<style scoped>\n",
       "    .dataframe tbody tr th:only-of-type {\n",
       "        vertical-align: middle;\n",
       "    }\n",
       "\n",
       "    .dataframe tbody tr th {\n",
       "        vertical-align: top;\n",
       "    }\n",
       "\n",
       "    .dataframe thead th {\n",
       "        text-align: right;\n",
       "    }\n",
       "</style>\n",
       "<table border=\"1\" class=\"dataframe\">\n",
       "  <thead>\n",
       "    <tr style=\"text-align: right;\">\n",
       "      <th></th>\n",
       "      <th>id</th>\n",
       "      <th>conversation_id</th>\n",
       "      <th>created_at</th>\n",
       "      <th>date</th>\n",
       "      <th>time</th>\n",
       "      <th>timezone</th>\n",
       "      <th>user_id</th>\n",
       "      <th>username</th>\n",
       "      <th>name</th>\n",
       "      <th>place</th>\n",
       "      <th>...</th>\n",
       "      <th>urls</th>\n",
       "      <th>photos</th>\n",
       "      <th>replies_count</th>\n",
       "      <th>retweets_count</th>\n",
       "      <th>likes_count</th>\n",
       "      <th>hashtags</th>\n",
       "      <th>cashtags</th>\n",
       "      <th>link</th>\n",
       "      <th>polarity</th>\n",
       "      <th>subjectivity</th>\n",
       "    </tr>\n",
       "  </thead>\n",
       "  <tbody>\n",
       "    <tr>\n",
       "      <th>0</th>\n",
       "      <td>1550999167748694017</td>\n",
       "      <td>1550999167748694017</td>\n",
       "      <td>2022-07-23 17:19:52 PDT</td>\n",
       "      <td>2022-07-23</td>\n",
       "      <td>17:19:52</td>\n",
       "      <td>-700</td>\n",
       "      <td>2371339658</td>\n",
       "      <td>repjimmygomez</td>\n",
       "      <td>Rep. Jimmy Gomez</td>\n",
       "      <td>NaN</td>\n",
       "      <td>...</td>\n",
       "      <td>[]</td>\n",
       "      <td>['https://pbs.twimg.com/media/FYZBg2dWIAIBjyN....</td>\n",
       "      <td>0</td>\n",
       "      <td>5</td>\n",
       "      <td>14</td>\n",
       "      <td>['ca34', 'koreatown']</td>\n",
       "      <td>[]</td>\n",
       "      <td>https://twitter.com/RepJimmyGomez/status/15509...</td>\n",
       "      <td>0.442519</td>\n",
       "      <td>0.484091</td>\n",
       "    </tr>\n",
       "    <tr>\n",
       "      <th>1</th>\n",
       "      <td>1542319507724812288</td>\n",
       "      <td>1542319507724812288</td>\n",
       "      <td>2022-06-29 18:30:00 PDT</td>\n",
       "      <td>2022-06-29</td>\n",
       "      <td>18:30:00</td>\n",
       "      <td>-700</td>\n",
       "      <td>3638215945</td>\n",
       "      <td>mirrornow</td>\n",
       "      <td>Mirror Now</td>\n",
       "      <td>NaN</td>\n",
       "      <td>...</td>\n",
       "      <td>['https://bit.ly/3NvXtJI']</td>\n",
       "      <td>[]</td>\n",
       "      <td>0</td>\n",
       "      <td>1</td>\n",
       "      <td>1</td>\n",
       "      <td>[]</td>\n",
       "      <td>[]</td>\n",
       "      <td>https://twitter.com/MirrorNow/status/154231950...</td>\n",
       "      <td>-0.150000</td>\n",
       "      <td>0.400000</td>\n",
       "    </tr>\n",
       "    <tr>\n",
       "      <th>2</th>\n",
       "      <td>1532397095683928065</td>\n",
       "      <td>1532397095683928065</td>\n",
       "      <td>2022-06-02 09:21:52 PDT</td>\n",
       "      <td>2022-06-02</td>\n",
       "      <td>9:21:52</td>\n",
       "      <td>-700</td>\n",
       "      <td>587852239</td>\n",
       "      <td>tracylehrnews</td>\n",
       "      <td>Tracy Lehr</td>\n",
       "      <td>NaN</td>\n",
       "      <td>...</td>\n",
       "      <td>['https://keyt.com/news/education/2022/06/01/s...</td>\n",
       "      <td>[]</td>\n",
       "      <td>0</td>\n",
       "      <td>0</td>\n",
       "      <td>2</td>\n",
       "      <td>['munger']</td>\n",
       "      <td>[]</td>\n",
       "      <td>https://twitter.com/TracyLehrNews/status/15323...</td>\n",
       "      <td>0.000000</td>\n",
       "      <td>0.000000</td>\n",
       "    </tr>\n",
       "    <tr>\n",
       "      <th>3</th>\n",
       "      <td>1532183679719444480</td>\n",
       "      <td>1532183679719444480</td>\n",
       "      <td>2022-06-01 19:13:50 PDT</td>\n",
       "      <td>2022-06-01</td>\n",
       "      <td>19:13:50</td>\n",
       "      <td>-700</td>\n",
       "      <td>587852239</td>\n",
       "      <td>tracylehrnews</td>\n",
       "      <td>Tracy Lehr</td>\n",
       "      <td>NaN</td>\n",
       "      <td>...</td>\n",
       "      <td>['https://keyt.com/news/education/2022/06/01/s...</td>\n",
       "      <td>[]</td>\n",
       "      <td>0</td>\n",
       "      <td>1</td>\n",
       "      <td>0</td>\n",
       "      <td>['munger']</td>\n",
       "      <td>[]</td>\n",
       "      <td>https://twitter.com/TracyLehrNews/status/15321...</td>\n",
       "      <td>0.000000</td>\n",
       "      <td>0.000000</td>\n",
       "    </tr>\n",
       "    <tr>\n",
       "      <th>4</th>\n",
       "      <td>1532111273801920513</td>\n",
       "      <td>1532111273801920513</td>\n",
       "      <td>2022-06-01 14:26:07 PDT</td>\n",
       "      <td>2022-06-01</td>\n",
       "      <td>14:26:07</td>\n",
       "      <td>-700</td>\n",
       "      <td>1259979349</td>\n",
       "      <td>johnpalminteri</td>\n",
       "      <td>John Palminteri</td>\n",
       "      <td>NaN</td>\n",
       "      <td>...</td>\n",
       "      <td>[]</td>\n",
       "      <td>['https://pbs.twimg.com/media/FUMmxv9UYAAiFDi....</td>\n",
       "      <td>3</td>\n",
       "      <td>3</td>\n",
       "      <td>3</td>\n",
       "      <td>[]</td>\n",
       "      <td>[]</td>\n",
       "      <td>https://twitter.com/JohnPalminteri/status/1532...</td>\n",
       "      <td>0.000000</td>\n",
       "      <td>0.000000</td>\n",
       "    </tr>\n",
       "  </tbody>\n",
       "</table>\n",
       "<p>5 rows × 23 columns</p>\n",
       "</div>"
      ],
      "text/plain": [
       "                    id      conversation_id               created_at  \\\n",
       "0  1550999167748694017  1550999167748694017  2022-07-23 17:19:52 PDT   \n",
       "1  1542319507724812288  1542319507724812288  2022-06-29 18:30:00 PDT   \n",
       "2  1532397095683928065  1532397095683928065  2022-06-02 09:21:52 PDT   \n",
       "3  1532183679719444480  1532183679719444480  2022-06-01 19:13:50 PDT   \n",
       "4  1532111273801920513  1532111273801920513  2022-06-01 14:26:07 PDT   \n",
       "\n",
       "         date      time  timezone     user_id        username  \\\n",
       "0  2022-07-23  17:19:52      -700  2371339658   repjimmygomez   \n",
       "1  2022-06-29  18:30:00      -700  3638215945       mirrornow   \n",
       "2  2022-06-02   9:21:52      -700   587852239   tracylehrnews   \n",
       "3  2022-06-01  19:13:50      -700   587852239   tracylehrnews   \n",
       "4  2022-06-01  14:26:07      -700  1259979349  johnpalminteri   \n",
       "\n",
       "               name  place  ...  \\\n",
       "0  Rep. Jimmy Gomez    NaN  ...   \n",
       "1        Mirror Now    NaN  ...   \n",
       "2        Tracy Lehr    NaN  ...   \n",
       "3        Tracy Lehr    NaN  ...   \n",
       "4   John Palminteri    NaN  ...   \n",
       "\n",
       "                                                urls  \\\n",
       "0                                                 []   \n",
       "1                         ['https://bit.ly/3NvXtJI']   \n",
       "2  ['https://keyt.com/news/education/2022/06/01/s...   \n",
       "3  ['https://keyt.com/news/education/2022/06/01/s...   \n",
       "4                                                 []   \n",
       "\n",
       "                                              photos replies_count  \\\n",
       "0  ['https://pbs.twimg.com/media/FYZBg2dWIAIBjyN....             0   \n",
       "1                                                 []             0   \n",
       "2                                                 []             0   \n",
       "3                                                 []             0   \n",
       "4  ['https://pbs.twimg.com/media/FUMmxv9UYAAiFDi....             3   \n",
       "\n",
       "  retweets_count likes_count               hashtags  cashtags  \\\n",
       "0              5          14  ['ca34', 'koreatown']        []   \n",
       "1              1           1                     []        []   \n",
       "2              0           2             ['munger']        []   \n",
       "3              1           0             ['munger']        []   \n",
       "4              3           3                     []        []   \n",
       "\n",
       "                                                link  polarity subjectivity  \n",
       "0  https://twitter.com/RepJimmyGomez/status/15509...  0.442519     0.484091  \n",
       "1  https://twitter.com/MirrorNow/status/154231950... -0.150000     0.400000  \n",
       "2  https://twitter.com/TracyLehrNews/status/15323...  0.000000     0.000000  \n",
       "3  https://twitter.com/TracyLehrNews/status/15321...  0.000000     0.000000  \n",
       "4  https://twitter.com/JohnPalminteri/status/1532...  0.000000     0.000000  \n",
       "\n",
       "[5 rows x 23 columns]"
      ]
     },
     "execution_count": 5,
     "metadata": {},
     "output_type": "execute_result"
    }
   ],
   "source": [
    "df =df.drop('Unnamed: 0', axis=1)\n",
    "df.head()"
   ]
  },
  {
   "cell_type": "code",
   "execution_count": 54,
   "metadata": {},
   "outputs": [
    {
     "data": {
      "text/html": [
       "<div>\n",
       "<style scoped>\n",
       "    .dataframe tbody tr th:only-of-type {\n",
       "        vertical-align: middle;\n",
       "    }\n",
       "\n",
       "    .dataframe tbody tr th {\n",
       "        vertical-align: top;\n",
       "    }\n",
       "\n",
       "    .dataframe thead th {\n",
       "        text-align: right;\n",
       "    }\n",
       "</style>\n",
       "<table border=\"1\" class=\"dataframe\">\n",
       "  <thead>\n",
       "    <tr style=\"text-align: right;\">\n",
       "      <th></th>\n",
       "      <th>date</th>\n",
       "      <th>tweet</th>\n",
       "      <th>replies_count</th>\n",
       "      <th>likes_count</th>\n",
       "      <th>polarity</th>\n",
       "    </tr>\n",
       "  </thead>\n",
       "  <tbody>\n",
       "    <tr>\n",
       "      <th>0</th>\n",
       "      <td>2022-07-23</td>\n",
       "      <td>Great to see so many new and familiar faces at...</td>\n",
       "      <td>0</td>\n",
       "      <td>14</td>\n",
       "      <td>0.442519</td>\n",
       "    </tr>\n",
       "    <tr>\n",
       "      <th>1</th>\n",
       "      <td>2022-06-29</td>\n",
       "      <td>Munger News: The video which has gone viral sh...</td>\n",
       "      <td>0</td>\n",
       "      <td>1</td>\n",
       "      <td>-0.150000</td>\n",
       "    </tr>\n",
       "    <tr>\n",
       "      <th>2</th>\n",
       "      <td>2022-06-02</td>\n",
       "      <td>Students host #Munger Hall response panel  htt...</td>\n",
       "      <td>0</td>\n",
       "      <td>2</td>\n",
       "      <td>0.000000</td>\n",
       "    </tr>\n",
       "    <tr>\n",
       "      <th>3</th>\n",
       "      <td>2022-06-01</td>\n",
       "      <td>Students host #Munger Hall response panel  htt...</td>\n",
       "      <td>0</td>\n",
       "      <td>0</td>\n",
       "      <td>0.000000</td>\n",
       "    </tr>\n",
       "    <tr>\n",
       "      <th>4</th>\n",
       "      <td>2022-06-01</td>\n",
       "      <td>Proposed to be 11 stories for 4500 students wi...</td>\n",
       "      <td>3</td>\n",
       "      <td>3</td>\n",
       "      <td>0.000000</td>\n",
       "    </tr>\n",
       "  </tbody>\n",
       "</table>\n",
       "</div>"
      ],
      "text/plain": [
       "         date                                              tweet  \\\n",
       "0  2022-07-23  Great to see so many new and familiar faces at...   \n",
       "1  2022-06-29  Munger News: The video which has gone viral sh...   \n",
       "2  2022-06-02  Students host #Munger Hall response panel  htt...   \n",
       "3  2022-06-01  Students host #Munger Hall response panel  htt...   \n",
       "4  2022-06-01  Proposed to be 11 stories for 4500 students wi...   \n",
       "\n",
       "   replies_count  likes_count  polarity  \n",
       "0              0           14  0.442519  \n",
       "1              0            1 -0.150000  \n",
       "2              0            2  0.000000  \n",
       "3              0            0  0.000000  \n",
       "4              3            3  0.000000  "
      ]
     },
     "execution_count": 54,
     "metadata": {},
     "output_type": "execute_result"
    }
   ],
   "source": [
    "df = df[[\"date\",\"tweet\",\"replies_count\",\"likes_count\",\"polarity\"]]\n",
    "df.head()"
   ]
  },
  {
   "cell_type": "code",
   "execution_count": 59,
   "metadata": {},
   "outputs": [
    {
     "data": {
      "image/png": "[encoded data removed]",
      "text/plain": [
       "<Figure size 432x288 with 1 Axes>"
      ]
     },
     "metadata": {
      "needs_background": "light"
     },
     "output_type": "display_data"
    }
   ],
   "source": [
    "likes = df[\"likes_count\"].to_list()\n",
    "# likes = [x for x in likes if x <= 200]\n",
    "# likes = [x for x in likes if x <= 100]\n",
    "\n",
    "# print(likes)\n",
    "plt.hist(likes)\n",
    "plt.show()"
   ]
  },
  {
   "cell_type": "code",
   "execution_count": 6,
   "metadata": {},
   "outputs": [
    {
     "data": {
      "image/png": "[encoded data removed]",
      "text/plain": [
       "<Figure size 432x288 with 1 Axes>"
      ]
     },
     "metadata": {},
     "output_type": "display_data"
    },
    {
     "data": {
      "text/plain": [
       "<ggplot: (8771644750673)>"
      ]
     },
     "execution_count": 6,
     "metadata": {},
     "output_type": "execute_result"
    }
   ],
   "source": [
    "# Create\n",
    "plot = p9.ggplot(data=df, mapping=p9.aes(x='polarity', y='subjectivity'))\n",
    "\n",
    "# Draw the plot\n",
    "plot + p9.geom_point()"
   ]
  },
  {
   "cell_type": "code",
   "execution_count": 26,
   "metadata": {},
   "outputs": [
    {
     "data": {
      "image/png": "[encoded data removed]",
      "text/plain": [
       "<Figure size 432x288 with 1 Axes>"
      ]
     },
     "metadata": {
      "needs_background": "light"
     },
     "output_type": "display_data"
    }
   ],
   "source": [
    "# df['new_date'] = df['date'].date()\n",
    "df['date'] = pd.to_datetime(df[\"date\"]).dt.strftime('%Y-%m-%d')\n",
    "# print(df['date'].to_list())\n",
    "\n",
    "df['freq_count'] = df.groupby('date')['date'].transform('count')\n",
    "df = df.drop_duplicates(subset='date')\n",
    "\n",
    "dates = df['date'].to_list()\n",
    "dates = dates[::-1]\n",
    "freqs = df['freq_count'].to_list()\n",
    "freqs = freqs[::-1]\n",
    "plt.plot_date(dates, freqs, 'g')\n",
    "plt.xticks([dates[0], dates[-1]], visible=True, rotation=\"horizontal\")\n",
    "plt.show()\n"
   ]
  },
  {
   "cell_type": "markdown",
   "metadata": {},
   "source": [
    "### Exportation: \n",
    "You can export this notebook to PDF/HTML (similarly to Jupyter Notebooks in Anaconda or R Markdown). However, you must have a latex engine installed inorder to export notebooks. You can export the notebook after clicking the export tab (found near the top of the screen) and selecting your desired format. \n",
    "Installing Latex engine: \n",
    "https://nbconvert.readthedocs.io/en/latest/install.html#installing-tex"
   ]
  },
  {
   "cell_type": "markdown",
   "metadata": {},
   "source": [
    "### Final Comments:\n",
    "see this repository for reference: "
   ]
  }
 ],
 "metadata": {
  "kernelspec": {
   "display_name": "Python 3.7.7 ('base')",
   "language": "python",
   "name": "python3"
  },
  "language_info": {
   "codemirror_mode": {
    "name": "ipython",
    "version": 3
   },
   "file_extension": ".py",
   "mimetype": "text/x-python",
   "name": "python",
   "nbconvert_exporter": "python",
   "pygments_lexer": "ipython3",
   "version": "3.7.7"
  },
  "orig_nbformat": 4,
  "vscode": {
   "interpreter": {
    "hash": "3d597f4c481aa0f25dceb95d2a0067e73c0966dcbd003d741d821a7208527ecf"
   }
  }
 },
 "nbformat": 4,
 "nbformat_minor": 2
}
